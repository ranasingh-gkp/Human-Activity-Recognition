{
 "cells": [
  {
   "cell_type": "code",
   "execution_count": 1,
   "metadata": {},
   "outputs": [],
   "source": [
    "# Importing Libraries"
   ]
  },
  {
   "cell_type": "code",
   "execution_count": 2,
   "metadata": {},
   "outputs": [],
   "source": [
    "import pandas as pd\n",
    "import numpy as np"
   ]
  },
  {
   "cell_type": "code",
   "execution_count": 3,
   "metadata": {},
   "outputs": [],
   "source": [
    "# Activities are the class labels\n",
    "# It is a 6 class classification\n",
    "ACTIVITIES = {\n",
    "    0: 'WALKING',\n",
    "    1: 'WALKING_UPSTAIRS',\n",
    "    2: 'WALKING_DOWNSTAIRS',\n",
    "    3: 'SITTING',\n",
    "    4: 'STANDING',\n",
    "    5: 'LAYING',\n",
    "}\n",
    "\n",
    "# Utility function to print the confusion matrix\n",
    "def confusion_matrix(Y_true, Y_pred):\n",
    "    Y_true = pd.Series([ACTIVITIES[y] for y in np.argmax(Y_true, axis=1)])\n",
    "    Y_pred = pd.Series([ACTIVITIES[y] for y in np.argmax(Y_pred, axis=1)])\n",
    "\n",
    "    return pd.crosstab(Y_true, Y_pred, rownames=['True'], colnames=['Pred'])"
   ]
  },
  {
   "cell_type": "markdown",
   "metadata": {},
   "source": [
    "### Data"
   ]
  },
  {
   "cell_type": "code",
   "execution_count": 4,
   "metadata": {},
   "outputs": [],
   "source": [
    "# Data directory\n",
    "DATADIR = 'UCI_HAR_Dataset'"
   ]
  },
  {
   "cell_type": "code",
   "execution_count": 5,
   "metadata": {},
   "outputs": [],
   "source": [
    "# Raw data signals\n",
    "# Signals are from Accelerometer and Gyroscope\n",
    "# The signals are in x,y,z directions\n",
    "# Sensor signals are filtered to have only body acceleration\n",
    "# excluding the acceleration due to gravity\n",
    "# Triaxial acceleration from the accelerometer is total acceleration\n",
    "SIGNALS = [\n",
    "    \"body_acc_x\",\n",
    "    \"body_acc_y\",\n",
    "    \"body_acc_z\",\n",
    "    \"body_gyro_x\",\n",
    "    \"body_gyro_y\",\n",
    "    \"body_gyro_z\",\n",
    "    \"total_acc_x\",\n",
    "    \"total_acc_y\",\n",
    "    \"total_acc_z\"\n",
    "]"
   ]
  },
  {
   "cell_type": "code",
   "execution_count": 6,
   "metadata": {},
   "outputs": [],
   "source": [
    "# Utility function to read the data from csv file\n",
    "def _read_csv(filename):\n",
    "    return pd.read_csv(filename, delim_whitespace=True, header=None)\n",
    "\n",
    "# Utility function to load the load\n",
    "def load_signals(subset):\n",
    "    signals_data = []\n",
    "\n",
    "    for signal in SIGNALS:\n",
    "        filename = f'UCI_HAR_Dataset/{subset}/Inertial Signals/{signal}_{subset}.txt'\n",
    "        signals_data.append(\n",
    "            _read_csv(filename).as_matrix()\n",
    "        ) \n",
    "\n",
    "    # Transpose is used to change the dimensionality of the output,\n",
    "    # aggregating the signals by combination of sample/timestep.\n",
    "    # Resultant shape is (7352 train/2947 test samples, 128 timesteps, 9 signals)\n",
    "    return np.transpose(signals_data, (1, 2, 0))"
   ]
  },
  {
   "cell_type": "code",
   "execution_count": 7,
   "metadata": {},
   "outputs": [],
   "source": [
    "\n",
    "def load_y(subset):\n",
    "    \"\"\"\n",
    "    The objective that we are trying to predict is a integer, from 1 to 6,\n",
    "    that represents a human activity. We return a binary representation of \n",
    "    every sample objective as a 6 bits vector using One Hot Encoding\n",
    "    (https://pandas.pydata.org/pandas-docs/stable/generated/pandas.get_dummies.html)\n",
    "    \"\"\"\n",
    "    filename = f'UCI_HAR_Dataset/{subset}/y_{subset}.txt'\n",
    "    y = _read_csv(filename)[0]\n",
    "\n",
    "    return pd.get_dummies(y).as_matrix()"
   ]
  },
  {
   "cell_type": "code",
   "execution_count": 8,
   "metadata": {},
   "outputs": [],
   "source": [
    "def load_data():\n",
    "    \"\"\"\n",
    "    Obtain the dataset from multiple files.\n",
    "    Returns: X_train, X_test, y_train, y_test\n",
    "    \"\"\"\n",
    "    X_train, X_test = load_signals('train'), load_signals('test')\n",
    "    y_train, y_test = load_y('train'), load_y('test')\n",
    "\n",
    "    return X_train, X_test, y_train, y_test"
   ]
  },
  {
   "cell_type": "code",
   "execution_count": 9,
   "metadata": {},
   "outputs": [],
   "source": [
    "# Importing tensorflow\n",
    "np.random.seed(42)\n",
    "import tensorflow as tf\n",
    "tf.set_random_seed(42)"
   ]
  },
  {
   "cell_type": "code",
   "execution_count": 10,
   "metadata": {},
   "outputs": [],
   "source": [
    "# Configuring a session\n",
    "session_conf = tf.ConfigProto(\n",
    "    intra_op_parallelism_threads=1,\n",
    "    inter_op_parallelism_threads=1\n",
    ")"
   ]
  },
  {
   "cell_type": "code",
   "execution_count": 11,
   "metadata": {},
   "outputs": [
    {
     "name": "stderr",
     "output_type": "stream",
     "text": [
      "Using TensorFlow backend.\n"
     ]
    }
   ],
   "source": [
    "# Import Keras\n",
    "from keras import backend as K\n",
    "sess = tf.Session(graph=tf.get_default_graph(), config=session_conf)\n",
    "K.set_session(sess)"
   ]
  },
  {
   "cell_type": "code",
   "execution_count": 12,
   "metadata": {},
   "outputs": [],
   "source": [
    "# Importing libraries\n",
    "from keras.models import Sequential\n",
    "from keras.layers import LSTM\n",
    "from keras.layers.core import Dense, Dropout"
   ]
  },
  {
   "cell_type": "code",
   "execution_count": 22,
   "metadata": {},
   "outputs": [],
   "source": [
    "# Initializing parameters\n",
    "epochs = 20\n",
    "batch_size = 16\n",
    "n_hidden = 32"
   ]
  },
  {
   "cell_type": "code",
   "execution_count": 14,
   "metadata": {},
   "outputs": [],
   "source": [
    "# Utility function to count the number of classes\n",
    "def _count_classes(y):\n",
    "    return len(set([tuple(category) for category in y]))"
   ]
  },
  {
   "cell_type": "code",
   "execution_count": 17,
   "metadata": {},
   "outputs": [
    {
     "name": "stderr",
     "output_type": "stream",
     "text": [
      "C:\\Users\\Raftaar Singh\\Anaconda3\\lib\\site-packages\\ipykernel_launcher.py:12: FutureWarning: Method .as_matrix will be removed in a future version. Use .values instead.\n",
      "  if sys.path[0] == '':\n"
     ]
    }
   ],
   "source": [
    "# Loading the train and test data\n",
    "X_train, X_test, Y_train, Y_test = load_data()"
   ]
  },
  {
   "cell_type": "code",
   "execution_count": 18,
   "metadata": {},
   "outputs": [
    {
     "name": "stdout",
     "output_type": "stream",
     "text": [
      "128\n",
      "9\n",
      "7352\n"
     ]
    }
   ],
   "source": [
    "timesteps = len(X_train[0])\n",
    "input_dim = len(X_train[0][0])\n",
    "n_classes = _count_classes(Y_train)\n",
    "\n",
    "print(timesteps)\n",
    "print(input_dim)\n",
    "print(len(X_train))"
   ]
  },
  {
   "cell_type": "markdown",
   "metadata": {},
   "source": [
    "- Defining the Architecture of LSTM"
   ]
  },
  {
   "cell_type": "code",
   "execution_count": null,
   "metadata": {},
   "outputs": [],
   "source": [
    "#http://maxpumperla.com/hyperas/\n",
    "'''\n",
    "from __future__ import print_function\n",
    "import numpy as np\n",
    "\n",
    "from hyperopt import Trials, STATUS_OK, tpe\n",
    "from keras.datasets import mnist\n",
    "from keras.layers.core import Dense, Dropout, Activation\n",
    "from keras.models import Sequential\n",
    "from keras.utils import np_utils\n",
    "\n",
    "from hyperas import optim\n",
    "from hyperas.distributions import choice, uniform\n",
    "\n",
    "\n",
    "def create_model(X_train, y_train, X_test, y_test):\n",
    "    \n",
    "    epochs = 8\n",
    "    batch_size = 32\n",
    "    timesteps = x_train.shape[1]\n",
    "    input_dim = len(x_train[0][0])\n",
    "    n_classes = 6\n",
    "    \n",
    "    model = Sequential()\n",
    "    \n",
    "    model.add(LSTM({{choice([64,32, 16])}}, return_sequences = True, input_shape = (timesteps, input_dim)))\n",
    "    model.add(Dropout({{uniform(0, 1)}}))\n",
    "    \n",
    "    model.add(LSTM({{choice([32, 16])}}))\n",
    "    model.add(Dropout({{uniform(0, 1)}}))\n",
    "    \n",
    "    model.add(Dense(n_classes, activation='sigmoid'))\n",
    "    \n",
    "    print(model.summary())\n",
    "    \n",
    "    model.compile(loss='categorical_crossentropy', metrics=['accuracy'], optimizer='rmsprop')\n",
    "    \n",
    "    result = model.fit(X_train, y_train, batch_size = batch_size, epochs=epochs, verbose=2, validation_split=0.01)\n",
    "    \n",
    "    validation_acc = np.amax(result.history['val_acc']) \n",
    "    \n",
    "    print('Best validation acc of epoch:', validation_acc)\n",
    "    \n",
    "    return {'loss': -validation_acc, 'status': STATUS_OK, 'model': model}'''"
   ]
  },
  {
   "cell_type": "code",
   "execution_count": null,
   "metadata": {},
   "outputs": [],
   "source": [
    "'''best_run, best_model = optim.minimize(model=create_model, data=load_data(), algo=tpe.suggest, max_evals=4, trials=Trials())\n",
    "X_train, y_train, X_test, y_test = load_data()\n",
    "\n",
    "score = best_model.evaluate(X_test, y_test)\n",
    "\n",
    "print('---------------------')\n",
    "print('|      Accuracy      |')\n",
    "print('---------------------')\n",
    "acc = np.round((score[1]*100), 2)\n",
    "print(str(acc)+\"%\\n\")\n",
    "    \n",
    "print('----------------------------------')\n",
    "print('|      Best Hyper-Parameters      |')\n",
    "print('----------------------------------')\n",
    "print(best_run)\n",
    "print(\"\\n\\n\")\n",
    "\n",
    "true_labels = [np.argmax(i)+1 for i in y_test]\n",
    "predicted_probs = best_model.predict(X_test)\n",
    "predicted_labels = [np.argmax(i)+1 for i in predicted_probs]\n",
    "print_confusionMatrix(true_labels, predicted_labels)'''"
   ]
  },
  {
   "cell_type": "markdown",
   "metadata": {},
   "source": [
    "# Model1: 1 LSTM with 32 hidden unit , rmsprop optimizer"
   ]
  },
  {
   "cell_type": "code",
   "execution_count": 19,
   "metadata": {},
   "outputs": [
    {
     "name": "stderr",
     "output_type": "stream",
     "text": [
      "WARNING: Logging before flag parsing goes to stderr.\n",
      "W0626 22:24:19.299101  6868 deprecation_wrapper.py:119] From C:\\Users\\Raftaar Singh\\Anaconda3\\lib\\site-packages\\keras\\backend\\tensorflow_backend.py:74: The name tf.get_default_graph is deprecated. Please use tf.compat.v1.get_default_graph instead.\n",
      "\n",
      "W0626 22:24:19.305118  6868 deprecation_wrapper.py:119] From C:\\Users\\Raftaar Singh\\Anaconda3\\lib\\site-packages\\keras\\backend\\tensorflow_backend.py:517: The name tf.placeholder is deprecated. Please use tf.compat.v1.placeholder instead.\n",
      "\n",
      "W0626 22:24:19.308441  6868 deprecation_wrapper.py:119] From C:\\Users\\Raftaar Singh\\Anaconda3\\lib\\site-packages\\keras\\backend\\tensorflow_backend.py:4138: The name tf.random_uniform is deprecated. Please use tf.random.uniform instead.\n",
      "\n",
      "W0626 22:24:19.699645  6868 deprecation_wrapper.py:119] From C:\\Users\\Raftaar Singh\\Anaconda3\\lib\\site-packages\\keras\\backend\\tensorflow_backend.py:133: The name tf.placeholder_with_default is deprecated. Please use tf.compat.v1.placeholder_with_default instead.\n",
      "\n",
      "W0626 22:24:19.712710  6868 deprecation.py:506] From C:\\Users\\Raftaar Singh\\Anaconda3\\lib\\site-packages\\keras\\backend\\tensorflow_backend.py:3445: calling dropout (from tensorflow.python.ops.nn_ops) with keep_prob is deprecated and will be removed in a future version.\n",
      "Instructions for updating:\n",
      "Please use `rate` instead of `keep_prob`. Rate should be set to `rate = 1 - keep_prob`.\n"
     ]
    },
    {
     "name": "stdout",
     "output_type": "stream",
     "text": [
      "_________________________________________________________________\n",
      "Layer (type)                 Output Shape              Param #   \n",
      "=================================================================\n",
      "lstm_1 (LSTM)                (None, 32)                5376      \n",
      "_________________________________________________________________\n",
      "dropout_1 (Dropout)          (None, 32)                0         \n",
      "_________________________________________________________________\n",
      "dense_1 (Dense)              (None, 6)                 198       \n",
      "=================================================================\n",
      "Total params: 5,574\n",
      "Trainable params: 5,574\n",
      "Non-trainable params: 0\n",
      "_________________________________________________________________\n"
     ]
    }
   ],
   "source": [
    "# Initiliazing the sequential model\n",
    "model = Sequential()\n",
    "# Configuring the parameters\n",
    "model.add(LSTM(n_hidden, input_shape=(timesteps, input_dim)))\n",
    "# Adding a dropout layer\n",
    "model.add(Dropout(0.5))\n",
    "# Adding a dense output layer with sigmoid activation\n",
    "model.add(Dense(n_classes, activation='sigmoid'))\n",
    "model.summary()"
   ]
  },
  {
   "cell_type": "code",
   "execution_count": 20,
   "metadata": {},
   "outputs": [
    {
     "name": "stderr",
     "output_type": "stream",
     "text": [
      "W0626 22:24:23.850056  6868 deprecation_wrapper.py:119] From C:\\Users\\Raftaar Singh\\Anaconda3\\lib\\site-packages\\keras\\optimizers.py:790: The name tf.train.Optimizer is deprecated. Please use tf.compat.v1.train.Optimizer instead.\n",
      "\n",
      "W0626 22:24:23.889933  6868 deprecation_wrapper.py:119] From C:\\Users\\Raftaar Singh\\Anaconda3\\lib\\site-packages\\keras\\backend\\tensorflow_backend.py:3295: The name tf.log is deprecated. Please use tf.math.log instead.\n",
      "\n"
     ]
    }
   ],
   "source": [
    "# Compiling the model\n",
    "model.compile(loss='categorical_crossentropy',\n",
    "              optimizer='rmsprop',\n",
    "              metrics=['accuracy'])"
   ]
  },
  {
   "cell_type": "code",
   "execution_count": 21,
   "metadata": {},
   "outputs": [
    {
     "name": "stderr",
     "output_type": "stream",
     "text": [
      "W0626 22:24:25.472001  6868 deprecation.py:323] From C:\\Users\\Raftaar Singh\\Anaconda3\\lib\\site-packages\\tensorflow\\python\\ops\\math_grad.py:1250: add_dispatch_support.<locals>.wrapper (from tensorflow.python.ops.array_ops) is deprecated and will be removed in a future version.\n",
      "Instructions for updating:\n",
      "Use tf.where in 2.0, which has the same broadcast rule as np.where\n"
     ]
    },
    {
     "name": "stdout",
     "output_type": "stream",
     "text": [
      "Train on 7352 samples, validate on 2947 samples\n",
      "Epoch 1/30\n",
      "7352/7352 [==============================] - 77s 10ms/step - loss: 1.3207 - acc: 0.4329 - val_loss: 1.1474 - val_acc: 0.4706\n",
      "Epoch 2/30\n",
      "7352/7352 [==============================] - 72s 10ms/step - loss: 0.9877 - acc: 0.5702 - val_loss: 1.0286 - val_acc: 0.5046\n",
      "Epoch 3/30\n",
      "7352/7352 [==============================] - 74s 10ms/step - loss: 0.7947 - acc: 0.6477 - val_loss: 0.7681 - val_acc: 0.6074\n",
      "Epoch 4/30\n",
      "7352/7352 [==============================] - 73s 10ms/step - loss: 0.6952 - acc: 0.6578 - val_loss: 0.7221 - val_acc: 0.6060\n",
      "Epoch 5/30\n",
      "7352/7352 [==============================] - 73s 10ms/step - loss: 0.6491 - acc: 0.6802 - val_loss: 0.7290 - val_acc: 0.6169\n",
      "Epoch 6/30\n",
      "7352/7352 [==============================] - 64s 9ms/step - loss: 0.6374 - acc: 0.6857 - val_loss: 1.2811 - val_acc: 0.5877\n",
      "Epoch 7/30\n",
      "7352/7352 [==============================] - 65s 9ms/step - loss: 0.6218 - acc: 0.7231 - val_loss: 0.6598 - val_acc: 0.7194\n",
      "Epoch 8/30\n",
      "7352/7352 [==============================] - 64s 9ms/step - loss: 0.5557 - acc: 0.7578 - val_loss: 0.7062 - val_acc: 0.7333\n",
      "Epoch 9/30\n",
      "7352/7352 [==============================] - 65s 9ms/step - loss: 0.5000 - acc: 0.7933 - val_loss: 0.6462 - val_acc: 0.7618\n",
      "Epoch 10/30\n",
      "7352/7352 [==============================] - 65s 9ms/step - loss: 0.4565 - acc: 0.8069 - val_loss: 0.5785 - val_acc: 0.7737\n",
      "Epoch 11/30\n",
      "7352/7352 [==============================] - 65s 9ms/step - loss: 0.4371 - acc: 0.8171 - val_loss: 0.5561 - val_acc: 0.7788\n",
      "Epoch 12/30\n",
      "7352/7352 [==============================] - 65s 9ms/step - loss: 0.3866 - acc: 0.8437 - val_loss: 0.5607 - val_acc: 0.8273\n",
      "Epoch 13/30\n",
      "7352/7352 [==============================] - 65s 9ms/step - loss: 0.3693 - acc: 0.8819 - val_loss: 0.5133 - val_acc: 0.8687\n",
      "Epoch 14/30\n",
      "7352/7352 [==============================] - 66s 9ms/step - loss: 0.3033 - acc: 0.9106 - val_loss: 0.5015 - val_acc: 0.8799\n",
      "Epoch 15/30\n",
      "7352/7352 [==============================] - 66s 9ms/step - loss: 0.2572 - acc: 0.9226 - val_loss: 0.4646 - val_acc: 0.8823\n",
      "Epoch 16/30\n",
      "7352/7352 [==============================] - 64s 9ms/step - loss: 0.2539 - acc: 0.9232 - val_loss: 0.5301 - val_acc: 0.8826\n",
      "Epoch 17/30\n",
      "7352/7352 [==============================] - 61s 8ms/step - loss: 0.2158 - acc: 0.9331 - val_loss: 0.5799 - val_acc: 0.8612\n",
      "Epoch 18/30\n",
      "7352/7352 [==============================] - 64s 9ms/step - loss: 0.2564 - acc: 0.9244 - val_loss: 0.5184 - val_acc: 0.8680\n",
      "Epoch 19/30\n",
      "7352/7352 [==============================] - 64s 9ms/step - loss: 0.2175 - acc: 0.9319 - val_loss: 0.5122 - val_acc: 0.8870\n",
      "Epoch 20/30\n",
      "7352/7352 [==============================] - 63s 9ms/step - loss: 0.2374 - acc: 0.9321 - val_loss: 0.5969 - val_acc: 0.8711\n",
      "Epoch 21/30\n",
      "7352/7352 [==============================] - 64s 9ms/step - loss: 0.2009 - acc: 0.9392 - val_loss: 0.6558 - val_acc: 0.8714\n",
      "Epoch 22/30\n",
      "7352/7352 [==============================] - 64s 9ms/step - loss: 0.2106 - acc: 0.9387 - val_loss: 0.5078 - val_acc: 0.8782\n",
      "Epoch 23/30\n",
      "7352/7352 [==============================] - 62s 8ms/step - loss: 0.1870 - acc: 0.9411 - val_loss: 0.4839 - val_acc: 0.8812\n",
      "Epoch 24/30\n",
      "7352/7352 [==============================] - 61s 8ms/step - loss: 0.1881 - acc: 0.9399 - val_loss: 0.6952 - val_acc: 0.8721\n",
      "Epoch 25/30\n",
      "7352/7352 [==============================] - 62s 8ms/step - loss: 0.2000 - acc: 0.9391 - val_loss: 0.5929 - val_acc: 0.8856\n",
      "Epoch 26/30\n",
      "7352/7352 [==============================] - 61s 8ms/step - loss: 0.1904 - acc: 0.9412 - val_loss: 0.5378 - val_acc: 0.8823\n",
      "Epoch 27/30\n",
      "7352/7352 [==============================] - 61s 8ms/step - loss: 0.2367 - acc: 0.9358 - val_loss: 0.5179 - val_acc: 0.8697\n",
      "Epoch 28/30\n",
      "7352/7352 [==============================] - 61s 8ms/step - loss: 0.1854 - acc: 0.9468 - val_loss: 0.5344 - val_acc: 0.8931\n",
      "Epoch 29/30\n",
      "7352/7352 [==============================] - 61s 8ms/step - loss: 0.2251 - acc: 0.9402 - val_loss: 0.4379 - val_acc: 0.8918\n",
      "Epoch 30/30\n",
      "7352/7352 [==============================] - 61s 8ms/step - loss: 0.1702 - acc: 0.9457 - val_loss: 0.4320 - val_acc: 0.8938\n"
     ]
    },
    {
     "data": {
      "text/plain": [
       "<keras.callbacks.History at 0x1c74c006a90>"
      ]
     },
     "execution_count": 21,
     "metadata": {},
     "output_type": "execute_result"
    }
   ],
   "source": [
    "# Training the model\n",
    "model.fit(X_train,\n",
    "          Y_train,\n",
    "          batch_size=batch_size,\n",
    "          validation_data=(X_test, Y_test),\n",
    "          epochs=epochs)"
   ]
  },
  {
   "cell_type": "code",
   "execution_count": 23,
   "metadata": {},
   "outputs": [
    {
     "name": "stdout",
     "output_type": "stream",
     "text": [
      "Test Score: 0.431993\n",
      "Test Accuracy: 89.379030%\n"
     ]
    },
    {
     "data": {
      "image/png": "[encoded data removed]",
      "text/plain": [
       "<Figure size 720x504 with 2 Axes>"
      ]
     },
     "metadata": {
      "needs_background": "light"
     },
     "output_type": "display_data"
    }
   ],
   "source": [
    "import matplotlib.pyplot as plt\n",
    "%matplotlib inline\n",
    "import seaborn as sns\n",
    "from sklearn.metrics import confusion_matrix\n",
    "\n",
    "# Final evaluation of the model\n",
    "scores = model.evaluate(X_test, Y_test, verbose=0)\n",
    "print(\"Test Score: %f\" % (scores[0]))\n",
    "print(\"Test Accuracy: %f%%\" % (scores[1]*100))\n",
    "\n",
    "# Confusion Matrix\n",
    "Y_true = pd.Series([ACTIVITIES[y] for y in np.argmax(Y_test, axis=1)])\n",
    "Y_predictions = pd.Series([ACTIVITIES[y] for y in np.argmax(model.predict(X_test), axis=1)])\n",
    "\n",
    "# Code for drawing seaborn heatmaps\n",
    "class_names = ['laying','sitting','standing','walking','walking_downstairs','walking_upstairs']\n",
    "df_heatmap = pd.DataFrame(confusion_matrix(Y_true, Y_predictions), index=class_names, columns=class_names )\n",
    "fig = plt.figure(figsize=(10,7))\n",
    "heatmap = sns.heatmap(df_heatmap, annot=True, fmt=\"d\")\n",
    "\n",
    "# Setting tick labels for heatmap\n",
    "heatmap.yaxis.set_ticklabels(heatmap.yaxis.get_ticklabels(), rotation=0, ha='right', fontsize=14)\n",
    "heatmap.xaxis.set_ticklabels(heatmap.xaxis.get_ticklabels(), rotation=90, ha='right', fontsize=14)\n",
    "plt.ylabel('True label',size=18)\n",
    "plt.xlabel('Predicted label',size=18)\n",
    "plt.title(\"Confusion Matrix\\n\",size=24)\n",
    "plt.show()"
   ]
  },
  {
   "cell_type": "markdown",
   "metadata": {},
   "source": [
    "- With a simple 1 layer architecture we got 89.34% accuracy and a loss of 0.43\n",
    "- We can further imporve the performace with Hyperparameter tuning"
   ]
  },
  {
   "cell_type": "markdown",
   "metadata": {},
   "source": [
    "# Model2: 1 LSTM with 64 hodden unit , adam optimizer"
   ]
  },
  {
   "cell_type": "code",
   "execution_count": 24,
   "metadata": {},
   "outputs": [
    {
     "name": "stdout",
     "output_type": "stream",
     "text": [
      "_________________________________________________________________\n",
      "Layer (type)                 Output Shape              Param #   \n",
      "=================================================================\n",
      "lstm_2 (LSTM)                (None, 64)                18944     \n",
      "_________________________________________________________________\n",
      "dropout_2 (Dropout)          (None, 64)                0         \n",
      "_________________________________________________________________\n",
      "dense_2 (Dense)              (None, 6)                 390       \n",
      "=================================================================\n",
      "Total params: 19,334\n",
      "Trainable params: 19,334\n",
      "Non-trainable params: 0\n",
      "_________________________________________________________________\n"
     ]
    }
   ],
   "source": [
    "# Initiliazing the sequential model\n",
    "model2 = Sequential()\n",
    "# Configuring the parameters\n",
    "model2.add(LSTM(64, input_shape=(timesteps, input_dim)))\n",
    "# Adding a dropout layer\n",
    "model2.add(Dropout(0.5))\n",
    "# Adding a dense output layer with sigmoid activation\n",
    "model2.add(Dense(n_classes, activation='sigmoid'))\n",
    "model2.summary()"
   ]
  },
  {
   "cell_type": "code",
   "execution_count": 25,
   "metadata": {},
   "outputs": [
    {
     "name": "stdout",
     "output_type": "stream",
     "text": [
      "Train on 7352 samples, validate on 2947 samples\n",
      "Epoch 1/20\n",
      "7352/7352 [==============================] - 73s 10ms/step - loss: 1.4055 - acc: 0.3928 - val_loss: 1.2250 - val_acc: 0.4326\n",
      "Epoch 2/20\n",
      "7352/7352 [==============================] - 73s 10ms/step - loss: 1.2155 - acc: 0.4698 - val_loss: 1.2551 - val_acc: 0.5151\n",
      "Epoch 3/20\n",
      "7352/7352 [==============================] - 71s 10ms/step - loss: 1.0704 - acc: 0.5320 - val_loss: 1.0345 - val_acc: 0.4930\n",
      "Epoch 4/20\n",
      "7352/7352 [==============================] - 75s 10ms/step - loss: 1.0918 - acc: 0.5222 - val_loss: 1.2427 - val_acc: 0.5134\n",
      "Epoch 5/20\n",
      "7352/7352 [==============================] - 74s 10ms/step - loss: 1.1104 - acc: 0.5144 - val_loss: 0.8929 - val_acc: 0.5870\n",
      "Epoch 6/20\n",
      "7352/7352 [==============================] - 73s 10ms/step - loss: 0.8779 - acc: 0.6009 - val_loss: 0.8901 - val_acc: 0.5657\n",
      "Epoch 7/20\n",
      "7352/7352 [==============================] - 80s 11ms/step - loss: 0.8381 - acc: 0.6034 - val_loss: 0.9905 - val_acc: 0.5704\n",
      "Epoch 8/20\n",
      "7352/7352 [==============================] - 69s 9ms/step - loss: 0.8075 - acc: 0.6260 - val_loss: 0.9050 - val_acc: 0.5585\n",
      "Epoch 9/20\n",
      "7352/7352 [==============================] - 71s 10ms/step - loss: 0.8471 - acc: 0.6119 - val_loss: 0.8664 - val_acc: 0.5864\n",
      "Epoch 10/20\n",
      "7352/7352 [==============================] - 82s 11ms/step - loss: 0.7705 - acc: 0.6383 - val_loss: 0.7785 - val_acc: 0.6115\n",
      "Epoch 11/20\n",
      "7352/7352 [==============================] - 79s 11ms/step - loss: 0.7098 - acc: 0.6536 - val_loss: 0.7785 - val_acc: 0.5959\n",
      "Epoch 12/20\n",
      "7352/7352 [==============================] - 79s 11ms/step - loss: 0.6937 - acc: 0.6585 - val_loss: 0.8031 - val_acc: 0.6084\n",
      "Epoch 13/20\n",
      "7352/7352 [==============================] - 78s 11ms/step - loss: 0.8204 - acc: 0.6266 - val_loss: 0.7719 - val_acc: 0.6006\n",
      "Epoch 14/20\n",
      "7352/7352 [==============================] - 71s 10ms/step - loss: 1.1724 - acc: 0.4165 - val_loss: 0.9000 - val_acc: 0.5765\n",
      "Epoch 15/20\n",
      "7352/7352 [==============================] - 72s 10ms/step - loss: 0.9995 - acc: 0.4483 - val_loss: 0.9984 - val_acc: 0.4279\n",
      "Epoch 16/20\n",
      "7352/7352 [==============================] - 79s 11ms/step - loss: 0.9568 - acc: 0.5365 - val_loss: 0.9455 - val_acc: 0.6325\n",
      "Epoch 17/20\n",
      "7352/7352 [==============================] - 77s 10ms/step - loss: 0.7482 - acc: 0.6825 - val_loss: 0.6589 - val_acc: 0.7078\n",
      "Epoch 18/20\n",
      "7352/7352 [==============================] - 82s 11ms/step - loss: 0.7057 - acc: 0.7252 - val_loss: 0.7243 - val_acc: 0.7068\n",
      "Epoch 19/20\n",
      "7352/7352 [==============================] - 78s 11ms/step - loss: 0.6257 - acc: 0.7709 - val_loss: 0.5719 - val_acc: 0.7954\n",
      "Epoch 20/20\n",
      "7352/7352 [==============================] - 76s 10ms/step - loss: 0.8550 - acc: 0.6759 - val_loss: 0.9165 - val_acc: 0.6522\n"
     ]
    },
    {
     "data": {
      "text/plain": [
       "<keras.callbacks.History at 0x1c752728470>"
      ]
     },
     "execution_count": 25,
     "metadata": {},
     "output_type": "execute_result"
    }
   ],
   "source": [
    "# Compiling the model\n",
    "model2.compile(loss='categorical_crossentropy',\n",
    "              optimizer='adam',\n",
    "              metrics=['accuracy'])\n",
    "\n",
    "# Training the model\n",
    "model2.fit(X_train,\n",
    "          Y_train,\n",
    "          batch_size=batch_size,\n",
    "          validation_data=(X_test, Y_test),\n",
    "          epochs=epochs)\n",
    "\n",
    "\n"
   ]
  },
  {
   "cell_type": "code",
   "execution_count": 26,
   "metadata": {},
   "outputs": [
    {
     "name": "stdout",
     "output_type": "stream",
     "text": [
      "Test Score: 0.916506\n",
      "Test Accuracy: 65.218867%\n"
     ]
    },
    {
     "data": {
      "image/png": "[encoded data removed]",
      "text/plain": [
       "<Figure size 720x504 with 2 Axes>"
      ]
     },
     "metadata": {
      "needs_background": "light"
     },
     "output_type": "display_data"
    }
   ],
   "source": [
    "import matplotlib.pyplot as plt\n",
    "%matplotlib inline\n",
    "import seaborn as sns\n",
    "from sklearn.metrics import confusion_matrix\n",
    "\n",
    "# Final evaluation of the model\n",
    "scores = model2.evaluate(X_test, Y_test, verbose=0)\n",
    "print(\"Test Score: %f\" % (scores[0]))\n",
    "print(\"Test Accuracy: %f%%\" % (scores[1]*100))\n",
    "\n",
    "# Confusion Matrix\n",
    "Y_true = pd.Series([ACTIVITIES[y] for y in np.argmax(Y_test, axis=1)])\n",
    "Y_predictions = pd.Series([ACTIVITIES[y] for y in np.argmax(model2.predict(X_test), axis=1)])\n",
    "\n",
    "# Code for drawing seaborn heatmaps\n",
    "class_names = ['laying','sitting','standing','walking','walking_downstairs','walking_upstairs']\n",
    "df_heatmap = pd.DataFrame(confusion_matrix(Y_true, Y_predictions), index=class_names, columns=class_names )\n",
    "fig = plt.figure(figsize=(10,7))\n",
    "heatmap = sns.heatmap(df_heatmap, annot=True, fmt=\"d\")\n",
    "\n",
    "# Setting tick labels for heatmap\n",
    "heatmap.yaxis.set_ticklabels(heatmap.yaxis.get_ticklabels(), rotation=0, ha='right', fontsize=14)\n",
    "heatmap.xaxis.set_ticklabels(heatmap.xaxis.get_ticklabels(), rotation=90, ha='right', fontsize=14)\n",
    "plt.ylabel('True label',size=18)\n",
    "plt.xlabel('Predicted label',size=18)\n",
    "plt.title(\"Confusion Matrix\\n\",size=24)\n",
    "plt.show()"
   ]
  },
  {
   "cell_type": "markdown",
   "metadata": {},
   "source": [
    "it is seen that when i decrease opochs value from 30 to 20, accuracy decrease drastically.\n",
    "\n",
    "loss also increase significantly in 1 LSTM model"
   ]
  },
  {
   "cell_type": "markdown",
   "metadata": {},
   "source": [
    "# Model3: 1 LSTM with 64 hodden unit , rmsprop optimizer"
   ]
  },
  {
   "cell_type": "code",
   "execution_count": 27,
   "metadata": {},
   "outputs": [
    {
     "name": "stdout",
     "output_type": "stream",
     "text": [
      "_________________________________________________________________\n",
      "Layer (type)                 Output Shape              Param #   \n",
      "=================================================================\n",
      "lstm_3 (LSTM)                (None, 64)                18944     \n",
      "_________________________________________________________________\n",
      "dropout_3 (Dropout)          (None, 64)                0         \n",
      "_________________________________________________________________\n",
      "dense_3 (Dense)              (None, 6)                 390       \n",
      "=================================================================\n",
      "Total params: 19,334\n",
      "Trainable params: 19,334\n",
      "Non-trainable params: 0\n",
      "_________________________________________________________________\n"
     ]
    }
   ],
   "source": [
    "# Initiliazing the sequential model\n",
    "model3 = Sequential()\n",
    "# Configuring the parameters\n",
    "model3.add(LSTM(64, input_shape=(timesteps, input_dim)))\n",
    "# Adding a dropout layer\n",
    "model3.add(Dropout(0.5))\n",
    "# Adding a dense output layer with sigmoid activation\n",
    "model3.add(Dense(n_classes, activation='sigmoid'))\n",
    "model3.summary()"
   ]
  },
  {
   "cell_type": "code",
   "execution_count": 28,
   "metadata": {},
   "outputs": [
    {
     "name": "stdout",
     "output_type": "stream",
     "text": [
      "Train on 7352 samples, validate on 2947 samples\n",
      "Epoch 1/20\n",
      "7352/7352 [==============================] - 76s 10ms/step - loss: 1.2690 - acc: 0.4430 - val_loss: 1.0997 - val_acc: 0.5324\n",
      "Epoch 2/20\n",
      "7352/7352 [==============================] - 69s 9ms/step - loss: 0.9841 - acc: 0.5680 - val_loss: 0.8458 - val_acc: 0.6491\n",
      "Epoch 3/20\n",
      "7352/7352 [==============================] - 70s 10ms/step - loss: 0.8499 - acc: 0.6334 - val_loss: 1.0590 - val_acc: 0.5127\n",
      "Epoch 4/20\n",
      "7352/7352 [==============================] - 72s 10ms/step - loss: 0.6973 - acc: 0.7001 - val_loss: 0.7259 - val_acc: 0.7038\n",
      "Epoch 5/20\n",
      "7352/7352 [==============================] - 75s 10ms/step - loss: 0.5915 - acc: 0.7455 - val_loss: 0.5523 - val_acc: 0.7608\n",
      "Epoch 6/20\n",
      "7352/7352 [==============================] - 71s 10ms/step - loss: 0.4976 - acc: 0.8048 - val_loss: 0.5066 - val_acc: 0.8001\n",
      "Epoch 7/20\n",
      "7352/7352 [==============================] - 70s 10ms/step - loss: 0.3891 - acc: 0.8637 - val_loss: 0.4102 - val_acc: 0.8578\n",
      "Epoch 8/20\n",
      "7352/7352 [==============================] - 70s 10ms/step - loss: 0.2971 - acc: 0.9040 - val_loss: 0.8256 - val_acc: 0.7893\n",
      "Epoch 9/20\n",
      "7352/7352 [==============================] - 70s 10ms/step - loss: 0.2370 - acc: 0.9204 - val_loss: 0.4101 - val_acc: 0.8697\n",
      "Epoch 10/20\n",
      "7352/7352 [==============================] - 71s 10ms/step - loss: 0.2206 - acc: 0.9301 - val_loss: 0.5412 - val_acc: 0.8744\n",
      "Epoch 11/20\n",
      "7352/7352 [==============================] - 71s 10ms/step - loss: 0.2309 - acc: 0.9233 - val_loss: 0.6137 - val_acc: 0.8578\n",
      "Epoch 12/20\n",
      "7352/7352 [==============================] - 70s 10ms/step - loss: 0.1880 - acc: 0.9354 - val_loss: 0.5275 - val_acc: 0.8795\n",
      "Epoch 13/20\n",
      "7352/7352 [==============================] - 71s 10ms/step - loss: 0.2023 - acc: 0.9335 - val_loss: 0.4805 - val_acc: 0.8826\n",
      "Epoch 14/20\n",
      "7352/7352 [==============================] - 71s 10ms/step - loss: 0.1785 - acc: 0.9372 - val_loss: 0.3575 - val_acc: 0.8819\n",
      "Epoch 15/20\n",
      "7352/7352 [==============================] - 71s 10ms/step - loss: 0.1892 - acc: 0.9378 - val_loss: 0.6877 - val_acc: 0.8541\n",
      "Epoch 16/20\n",
      "7352/7352 [==============================] - 70s 10ms/step - loss: 0.1690 - acc: 0.9433 - val_loss: 0.4625 - val_acc: 0.8884\n",
      "Epoch 17/20\n",
      "7352/7352 [==============================] - 71s 10ms/step - loss: 0.1721 - acc: 0.9400 - val_loss: 0.6151 - val_acc: 0.8711\n",
      "Epoch 18/20\n",
      "7352/7352 [==============================] - 71s 10ms/step - loss: 0.1677 - acc: 0.9396 - val_loss: 0.3984 - val_acc: 0.8945\n",
      "Epoch 19/20\n",
      "7352/7352 [==============================] - 71s 10ms/step - loss: 0.1567 - acc: 0.9444 - val_loss: 0.7661 - val_acc: 0.8548\n",
      "Epoch 20/20\n",
      "7352/7352 [==============================] - 70s 10ms/step - loss: 0.1481 - acc: 0.9464 - val_loss: 0.4669 - val_acc: 0.8982\n"
     ]
    },
    {
     "data": {
      "text/plain": [
       "<keras.callbacks.History at 0x1c75a136f60>"
      ]
     },
     "execution_count": 28,
     "metadata": {},
     "output_type": "execute_result"
    }
   ],
   "source": [
    "# Compiling the model\n",
    "model3.compile(loss='categorical_crossentropy',\n",
    "              optimizer='rmsprop',\n",
    "              metrics=['accuracy'])\n",
    "\n",
    "# Training the model\n",
    "model3.fit(X_train,\n",
    "          Y_train,\n",
    "          batch_size=batch_size,\n",
    "          validation_data=(X_test, Y_test),\n",
    "          epochs=epochs)\n"
   ]
  },
  {
   "cell_type": "code",
   "execution_count": 29,
   "metadata": {},
   "outputs": [
    {
     "name": "stdout",
     "output_type": "stream",
     "text": [
      "Test Score: 0.466954\n",
      "Test Accuracy: 89.820156%\n"
     ]
    },
    {
     "data": {
      "image/png": "[encoded data removed]",
      "text/plain": [
       "<Figure size 720x504 with 2 Axes>"
      ]
     },
     "metadata": {
      "needs_background": "light"
     },
     "output_type": "display_data"
    }
   ],
   "source": [
    "import matplotlib.pyplot as plt\n",
    "%matplotlib inline\n",
    "import seaborn as sns\n",
    "from sklearn.metrics import confusion_matrix\n",
    "\n",
    "# Final evaluation of the model\n",
    "scores = model3.evaluate(X_test, Y_test, verbose=0)\n",
    "print(\"Test Score: %f\" % (scores[0]))\n",
    "print(\"Test Accuracy: %f%%\" % (scores[1]*100))\n",
    "\n",
    "# Confusion Matrix\n",
    "Y_true = pd.Series([ACTIVITIES[y] for y in np.argmax(Y_test, axis=1)])\n",
    "Y_predictions = pd.Series([ACTIVITIES[y] for y in np.argmax(model3.predict(X_test), axis=1)])\n",
    "\n",
    "# Code for drawing seaborn heatmaps\n",
    "class_names = ['laying','sitting','standing','walking','walking_downstairs','walking_upstairs']\n",
    "df_heatmap = pd.DataFrame(confusion_matrix(Y_true, Y_predictions), index=class_names, columns=class_names )\n",
    "fig = plt.figure(figsize=(10,7))\n",
    "heatmap = sns.heatmap(df_heatmap, annot=True, fmt=\"d\")\n",
    "\n",
    "# Setting tick labels for heatmap\n",
    "heatmap.yaxis.set_ticklabels(heatmap.yaxis.get_ticklabels(), rotation=0, ha='right', fontsize=14)\n",
    "heatmap.xaxis.set_ticklabels(heatmap.xaxis.get_ticklabels(), rotation=90, ha='right', fontsize=14)\n",
    "plt.ylabel('True label',size=18)\n",
    "plt.xlabel('Predicted label',size=18)\n",
    "plt.title(\"Confusion Matrix\\n\",size=24)\n",
    "plt.show()"
   ]
  },
  {
   "cell_type": "markdown",
   "metadata": {},
   "source": [
    "RMSProp optimizer is suitable for this problem. accuracy again reach to 89%\n",
    "\n",
    "loss also decrease from 0.9 to 0.46\n",
    "\n",
    "let check with 2 LSTM network..."
   ]
  },
  {
   "cell_type": "markdown",
   "metadata": {},
   "source": [
    "# Model4: 2 LSTM with 32 hidden unit , adam optimizer"
   ]
  },
  {
   "cell_type": "code",
   "execution_count": 30,
   "metadata": {},
   "outputs": [
    {
     "name": "stdout",
     "output_type": "stream",
     "text": [
      "_________________________________________________________________\n",
      "Layer (type)                 Output Shape              Param #   \n",
      "=================================================================\n",
      "lstm_4 (LSTM)                (None, 128, 32)           5376      \n",
      "_________________________________________________________________\n",
      "dropout_4 (Dropout)          (None, 128, 32)           0         \n",
      "_________________________________________________________________\n",
      "lstm_5 (LSTM)                (None, 32)                8320      \n",
      "_________________________________________________________________\n",
      "dropout_5 (Dropout)          (None, 32)                0         \n",
      "_________________________________________________________________\n",
      "dense_4 (Dense)              (None, 6)                 198       \n",
      "=================================================================\n",
      "Total params: 13,894\n",
      "Trainable params: 13,894\n",
      "Non-trainable params: 0\n",
      "_________________________________________________________________\n",
      "None\n"
     ]
    }
   ],
   "source": [
    "# Initiliazing the sequential model\n",
    "model4 = Sequential()\n",
    "# Configuring the parameters\n",
    "model4.add(LSTM(32,return_sequences=True, input_shape=(timesteps, input_dim)))\n",
    "model4.add(Dropout(0.5))\n",
    "\n",
    "# Configuring the parameters\n",
    "model4.add(LSTM(32))\n",
    "model4.add(Dropout(0.5))\n",
    "# Adding a dense output layer with sigmoid activation\n",
    "model4.add(Dense(n_classes, activation='sigmoid'))\n",
    "print(model4.summary())\n"
   ]
  },
  {
   "cell_type": "code",
   "execution_count": 31,
   "metadata": {},
   "outputs": [
    {
     "name": "stdout",
     "output_type": "stream",
     "text": [
      "Train on 7352 samples, validate on 2947 samples\n",
      "Epoch 1/20\n",
      "7352/7352 [==============================] - 137s 19ms/step - loss: 1.2312 - acc: 0.4869 - val_loss: 0.9302 - val_acc: 0.6210\n",
      "Epoch 2/20\n",
      "7352/7352 [==============================] - 130s 18ms/step - loss: 0.8336 - acc: 0.6080 - val_loss: 0.7768 - val_acc: 0.6206\n",
      "Epoch 3/20\n",
      "7352/7352 [==============================] - 5732s 780ms/step - loss: 0.7795 - acc: 0.6174 - val_loss: 0.7749 - val_acc: 0.6430\n",
      "Epoch 4/20\n",
      "7352/7352 [==============================] - 129s 18ms/step - loss: 0.8037 - acc: 0.6049 - val_loss: 0.7544 - val_acc: 0.5969\n",
      "Epoch 5/20\n",
      "7352/7352 [==============================] - 1588s 216ms/step - loss: 0.7207 - acc: 0.6138 - val_loss: 0.6889 - val_acc: 0.6125\n",
      "Epoch 6/20\n",
      "7352/7352 [==============================] - 120s 16ms/step - loss: 0.7499 - acc: 0.5962 - val_loss: 0.7753 - val_acc: 0.5419\n",
      "Epoch 7/20\n",
      "7352/7352 [==============================] - 134s 18ms/step - loss: 0.7406 - acc: 0.5967 - val_loss: 0.7400 - val_acc: 0.6111\n",
      "Epoch 8/20\n",
      "7352/7352 [==============================] - 144s 20ms/step - loss: 0.7154 - acc: 0.6372 - val_loss: 0.7954 - val_acc: 0.5948\n",
      "Epoch 9/20\n",
      "7352/7352 [==============================] - 169s 23ms/step - loss: 0.6815 - acc: 0.6446 - val_loss: 0.7485 - val_acc: 0.6162\n",
      "Epoch 10/20\n",
      "7352/7352 [==============================] - 159s 22ms/step - loss: 0.6546 - acc: 0.6613 - val_loss: 0.9102 - val_acc: 0.5823\n",
      "Epoch 11/20\n",
      "7352/7352 [==============================] - 174s 24ms/step - loss: 0.7418 - acc: 0.6239 - val_loss: 0.9104 - val_acc: 0.4601\n",
      "Epoch 12/20\n",
      "7352/7352 [==============================] - 197s 27ms/step - loss: 0.7262 - acc: 0.6288 - val_loss: 0.7161 - val_acc: 0.6162\n",
      "Epoch 13/20\n",
      "7352/7352 [==============================] - 157s 21ms/step - loss: 0.6820 - acc: 0.6522 - val_loss: 0.7361 - val_acc: 0.6152\n",
      "Epoch 14/20\n",
      "7352/7352 [==============================] - 158s 22ms/step - loss: 0.6417 - acc: 0.6636 - val_loss: 0.7225 - val_acc: 0.6223\n",
      "Epoch 15/20\n",
      "7352/7352 [==============================] - 128s 17ms/step - loss: 0.6037 - acc: 0.6904 - val_loss: 0.7110 - val_acc: 0.6301\n",
      "Epoch 16/20\n",
      "7352/7352 [==============================] - 134s 18ms/step - loss: 0.5680 - acc: 0.7130 - val_loss: 0.6425 - val_acc: 0.6603\n",
      "Epoch 17/20\n",
      "7352/7352 [==============================] - 121s 17ms/step - loss: 0.5061 - acc: 0.7669 - val_loss: 0.5578 - val_acc: 0.7482\n",
      "Epoch 18/20\n",
      "7352/7352 [==============================] - 148s 20ms/step - loss: 0.3826 - acc: 0.8464 - val_loss: 0.6141 - val_acc: 0.8079\n",
      "Epoch 19/20\n",
      "7352/7352 [==============================] - 190s 26ms/step - loss: 0.3548 - acc: 0.8902 - val_loss: 0.4817 - val_acc: 0.8697\n",
      "Epoch 20/20\n",
      "7352/7352 [==============================] - 126s 17ms/step - loss: 0.3011 - acc: 0.9100 - val_loss: 0.4616 - val_acc: 0.8626\n"
     ]
    },
    {
     "data": {
      "text/plain": [
       "<keras.callbacks.History at 0x1c75d23aef0>"
      ]
     },
     "execution_count": 31,
     "metadata": {},
     "output_type": "execute_result"
    }
   ],
   "source": [
    "# Compiling the model\n",
    "model4.compile(loss='categorical_crossentropy',\n",
    "              optimizer='adam',\n",
    "              metrics=['accuracy'])\n",
    "\n",
    "# Training the model\n",
    "model4.fit(X_train,\n",
    "          Y_train,\n",
    "          batch_size=batch_size,\n",
    "          validation_data=(X_test, Y_test),\n",
    "          epochs=epochs)"
   ]
  },
  {
   "cell_type": "code",
   "execution_count": 32,
   "metadata": {},
   "outputs": [
    {
     "name": "stdout",
     "output_type": "stream",
     "text": [
      "Test Score: 0.461573\n",
      "Test Accuracy: 86.257211%\n"
     ]
    },
    {
     "data": {
      "image/png": "[encoded data removed]",
      "text/plain": [
       "<Figure size 720x504 with 2 Axes>"
      ]
     },
     "metadata": {
      "needs_background": "light"
     },
     "output_type": "display_data"
    }
   ],
   "source": [
    "import matplotlib.pyplot as plt\n",
    "%matplotlib inline\n",
    "import seaborn as sns\n",
    "from sklearn.metrics import confusion_matrix\n",
    "\n",
    "# Final evaluation of the model\n",
    "scores = model4.evaluate(X_test, Y_test, verbose=0)\n",
    "print(\"Test Score: %f\" % (scores[0]))\n",
    "print(\"Test Accuracy: %f%%\" % (scores[1]*100))\n",
    "\n",
    "# Confusion Matrix\n",
    "Y_true = pd.Series([ACTIVITIES[y] for y in np.argmax(Y_test, axis=1)])\n",
    "Y_predictions = pd.Series([ACTIVITIES[y] for y in np.argmax(model4.predict(X_test), axis=1)])\n",
    "\n",
    "# Code for drawing seaborn heatmaps\n",
    "class_names = ['laying','sitting','standing','walking','walking_downstairs','walking_upstairs']\n",
    "df_heatmap = pd.DataFrame(confusion_matrix(Y_true, Y_predictions), index=class_names, columns=class_names )\n",
    "fig = plt.figure(figsize=(10,7))\n",
    "heatmap = sns.heatmap(df_heatmap, annot=True, fmt=\"d\")\n",
    "\n",
    "# Setting tick labels for heatmap\n",
    "heatmap.yaxis.set_ticklabels(heatmap.yaxis.get_ticklabels(), rotation=0, ha='right', fontsize=14)\n",
    "heatmap.xaxis.set_ticklabels(heatmap.xaxis.get_ticklabels(), rotation=90, ha='right', fontsize=14)\n",
    "plt.ylabel('True label',size=18)\n",
    "plt.xlabel('Predicted label',size=18)\n",
    "plt.title(\"Confusion Matrix\\n\",size=24)\n",
    "plt.show()"
   ]
  },
  {
   "cell_type": "markdown",
   "metadata": {},
   "source": [
    "# Model5: 2 LSTM with 64 hidden unit , adam optimizer"
   ]
  },
  {
   "cell_type": "code",
   "execution_count": 33,
   "metadata": {},
   "outputs": [
    {
     "name": "stdout",
     "output_type": "stream",
     "text": [
      "_________________________________________________________________\n",
      "Layer (type)                 Output Shape              Param #   \n",
      "=================================================================\n",
      "lstm_4 (LSTM)                (None, 128, 32)           5376      \n",
      "_________________________________________________________________\n",
      "dropout_4 (Dropout)          (None, 128, 32)           0         \n",
      "_________________________________________________________________\n",
      "lstm_5 (LSTM)                (None, 32)                8320      \n",
      "_________________________________________________________________\n",
      "dropout_5 (Dropout)          (None, 32)                0         \n",
      "_________________________________________________________________\n",
      "dense_4 (Dense)              (None, 6)                 198       \n",
      "=================================================================\n",
      "Total params: 13,894\n",
      "Trainable params: 13,894\n",
      "Non-trainable params: 0\n",
      "_________________________________________________________________\n",
      "None\n"
     ]
    }
   ],
   "source": [
    "# Initiliazing the sequential model\n",
    "model5 = Sequential()\n",
    "# Configuring the parameters\n",
    "model5.add(LSTM(64,return_sequences=True, input_shape=(timesteps, input_dim)))\n",
    "model5.add(Dropout(0.5))\n",
    "\n",
    "# Configuring the parameters\n",
    "model5.add(LSTM(32))\n",
    "model5.add(Dropout(0.5))\n",
    "# Adding a dense output layer with sigmoid activation\n",
    "model5.add(Dense(n_classes, activation='sigmoid'))\n",
    "print(model4.summary())"
   ]
  },
  {
   "cell_type": "code",
   "execution_count": 34,
   "metadata": {},
   "outputs": [
    {
     "name": "stdout",
     "output_type": "stream",
     "text": [
      "Train on 7352 samples, validate on 2947 samples\n",
      "Epoch 1/20\n",
      "7352/7352 [==============================] - 134s 18ms/step - loss: 1.4015 - acc: 0.4169 - val_loss: 1.2836 - val_acc: 0.4564\n",
      "Epoch 2/20\n",
      "7352/7352 [==============================] - 128s 17ms/step - loss: 1.2390 - acc: 0.4407 - val_loss: 1.2479 - val_acc: 0.4164\n",
      "Epoch 3/20\n",
      "7352/7352 [==============================] - 125s 17ms/step - loss: 1.2551 - acc: 0.4348 - val_loss: 1.4182 - val_acc: 0.3488\n",
      "Epoch 4/20\n",
      "7352/7352 [==============================] - 120s 16ms/step - loss: 1.1706 - acc: 0.4937 - val_loss: 1.0925 - val_acc: 0.5643\n",
      "Epoch 5/20\n",
      "7352/7352 [==============================] - 127s 17ms/step - loss: 0.9595 - acc: 0.5817 - val_loss: 1.3757 - val_acc: 0.4147\n",
      "Epoch 6/20\n",
      "7352/7352 [==============================] - 154s 21ms/step - loss: 1.0993 - acc: 0.5267 - val_loss: 0.9664 - val_acc: 0.5711\n",
      "Epoch 7/20\n",
      "7352/7352 [==============================] - 146s 20ms/step - loss: 0.9192 - acc: 0.6043 - val_loss: 1.1931 - val_acc: 0.4676\n",
      "Epoch 8/20\n",
      "7352/7352 [==============================] - 125s 17ms/step - loss: 1.1554 - acc: 0.5014 - val_loss: 1.2935 - val_acc: 0.4113\n",
      "Epoch 9/20\n",
      "7352/7352 [==============================] - 128s 17ms/step - loss: 0.9674 - acc: 0.5543 - val_loss: 0.8394 - val_acc: 0.5911\n",
      "Epoch 10/20\n",
      "7352/7352 [==============================] - 132s 18ms/step - loss: 1.1149 - acc: 0.5064 - val_loss: 1.0591 - val_acc: 0.4662\n",
      "Epoch 11/20\n",
      "7352/7352 [==============================] - 131s 18ms/step - loss: 0.9692 - acc: 0.5234 - val_loss: 0.9272 - val_acc: 0.5253\n",
      "Epoch 12/20\n",
      "7352/7352 [==============================] - 120s 16ms/step - loss: 1.3288 - acc: 0.4253 - val_loss: 1.2216 - val_acc: 0.4201\n",
      "Epoch 13/20\n",
      "7352/7352 [==============================] - 203s 28ms/step - loss: 1.1431 - acc: 0.4916 - val_loss: 0.9540 - val_acc: 0.5684\n",
      "Epoch 14/20\n",
      "7352/7352 [==============================] - 172s 23ms/step - loss: 0.8517 - acc: 0.5885 - val_loss: 0.8382 - val_acc: 0.6037\n",
      "Epoch 15/20\n",
      "7352/7352 [==============================] - 134s 18ms/step - loss: 0.9328 - acc: 0.5692 - val_loss: 0.8958 - val_acc: 0.5755\n",
      "Epoch 16/20\n",
      "7352/7352 [==============================] - 119s 16ms/step - loss: 0.8119 - acc: 0.6144 - val_loss: 0.7843 - val_acc: 0.6084\n",
      "Epoch 17/20\n",
      "7352/7352 [==============================] - 116s 16ms/step - loss: 0.7306 - acc: 0.6371 - val_loss: 0.7516 - val_acc: 0.6138\n",
      "Epoch 18/20\n",
      "7352/7352 [==============================] - 125s 17ms/step - loss: 0.6908 - acc: 0.6525 - val_loss: 0.7487 - val_acc: 0.6216\n",
      "Epoch 19/20\n",
      "7352/7352 [==============================] - 122s 17ms/step - loss: 0.6674 - acc: 0.6508 - val_loss: 0.7072 - val_acc: 0.6315\n",
      "Epoch 20/20\n",
      "7352/7352 [==============================] - 144s 20ms/step - loss: 0.6570 - acc: 0.6555 - val_loss: 0.7070 - val_acc: 0.6254\n"
     ]
    },
    {
     "data": {
      "text/plain": [
       "<keras.callbacks.History at 0x1c762bd1ef0>"
      ]
     },
     "execution_count": 34,
     "metadata": {},
     "output_type": "execute_result"
    }
   ],
   "source": [
    "# Compiling the model\n",
    "model5.compile(loss='categorical_crossentropy',\n",
    "              optimizer='adam',\n",
    "              metrics=['accuracy'])\n",
    "\n",
    "# Training the model\n",
    "model5.fit(X_train,\n",
    "          Y_train,\n",
    "          batch_size=batch_size,\n",
    "          validation_data=(X_test, Y_test),\n",
    "          epochs=epochs)"
   ]
  },
  {
   "cell_type": "code",
   "execution_count": 35,
   "metadata": {},
   "outputs": [
    {
     "name": "stdout",
     "output_type": "stream",
     "text": [
      "Test Score: 0.707013\n",
      "Test Accuracy: 62.538174%\n"
     ]
    },
    {
     "data": {
      "image/png": "[encoded data removed]",
      "text/plain": [
       "<Figure size 720x504 with 2 Axes>"
      ]
     },
     "metadata": {
      "needs_background": "light"
     },
     "output_type": "display_data"
    }
   ],
   "source": [
    "import matplotlib.pyplot as plt\n",
    "%matplotlib inline\n",
    "import seaborn as sns\n",
    "from sklearn.metrics import confusion_matrix\n",
    "\n",
    "# Final evaluation of the model\n",
    "scores = model5.evaluate(X_test, Y_test, verbose=0)\n",
    "print(\"Test Score: %f\" % (scores[0]))\n",
    "print(\"Test Accuracy: %f%%\" % (scores[1]*100))\n",
    "\n",
    "# Confusion Matrix\n",
    "Y_true = pd.Series([ACTIVITIES[y] for y in np.argmax(Y_test, axis=1)])\n",
    "Y_predictions = pd.Series([ACTIVITIES[y] for y in np.argmax(model5.predict(X_test), axis=1)])\n",
    "\n",
    "# Code for drawing seaborn heatmaps\n",
    "class_names = ['laying','sitting','standing','walking','walking_downstairs','walking_upstairs']\n",
    "df_heatmap = pd.DataFrame(confusion_matrix(Y_true, Y_predictions), index=class_names, columns=class_names )\n",
    "fig = plt.figure(figsize=(10,7))\n",
    "heatmap = sns.heatmap(df_heatmap, annot=True, fmt=\"d\")\n",
    "\n",
    "# Setting tick labels for heatmap\n",
    "heatmap.yaxis.set_ticklabels(heatmap.yaxis.get_ticklabels(), rotation=0, ha='right', fontsize=14)\n",
    "heatmap.xaxis.set_ticklabels(heatmap.xaxis.get_ticklabels(), rotation=90, ha='right', fontsize=14)\n",
    "plt.ylabel('True label',size=18)\n",
    "plt.xlabel('Predicted label',size=18)\n",
    "plt.title(\"Confusion Matrix\\n\",size=24)\n",
    "plt.show()"
   ]
  },
  {
   "cell_type": "markdown",
   "metadata": {},
   "source": [
    "# Model6: 2 LSTM with 64 hidden unit , rmsprop optimizer"
   ]
  },
  {
   "cell_type": "code",
   "execution_count": 36,
   "metadata": {},
   "outputs": [
    {
     "name": "stdout",
     "output_type": "stream",
     "text": [
      "_________________________________________________________________\n",
      "Layer (type)                 Output Shape              Param #   \n",
      "=================================================================\n",
      "lstm_4 (LSTM)                (None, 128, 32)           5376      \n",
      "_________________________________________________________________\n",
      "dropout_4 (Dropout)          (None, 128, 32)           0         \n",
      "_________________________________________________________________\n",
      "lstm_5 (LSTM)                (None, 32)                8320      \n",
      "_________________________________________________________________\n",
      "dropout_5 (Dropout)          (None, 32)                0         \n",
      "_________________________________________________________________\n",
      "dense_4 (Dense)              (None, 6)                 198       \n",
      "=================================================================\n",
      "Total params: 13,894\n",
      "Trainable params: 13,894\n",
      "Non-trainable params: 0\n",
      "_________________________________________________________________\n",
      "None\n"
     ]
    }
   ],
   "source": [
    "# Initiliazing the sequential model\n",
    "model6 = Sequential()\n",
    "# Configuring the parameters\n",
    "model6.add(LSTM(64,return_sequences=True, input_shape=(timesteps, input_dim)))\n",
    "model6.add(Dropout(0.5))\n",
    "\n",
    "# Configuring the parameters\n",
    "model6.add(LSTM(32))\n",
    "model6.add(Dropout(0.5))\n",
    "# Adding a dense output layer with sigmoid activation\n",
    "model6.add(Dense(n_classes, activation='sigmoid'))\n",
    "print(model4.summary())"
   ]
  },
  {
   "cell_type": "code",
   "execution_count": 37,
   "metadata": {},
   "outputs": [
    {
     "name": "stdout",
     "output_type": "stream",
     "text": [
      "Train on 7352 samples, validate on 2947 samples\n",
      "Epoch 1/20\n",
      "7352/7352 [==============================] - 134s 18ms/step - loss: 1.2233 - acc: 0.4961 - val_loss: 0.9743 - val_acc: 0.5986\n",
      "Epoch 2/20\n",
      "7352/7352 [==============================] - 130s 18ms/step - loss: 0.8135 - acc: 0.6517 - val_loss: 0.7748 - val_acc: 0.7197\n",
      "Epoch 3/20\n",
      "7352/7352 [==============================] - 128s 17ms/step - loss: 0.6675 - acc: 0.7274 - val_loss: 0.6315 - val_acc: 0.7913\n",
      "Epoch 4/20\n",
      "7352/7352 [==============================] - 135s 18ms/step - loss: 0.4925 - acc: 0.8443 - val_loss: 0.5876 - val_acc: 0.8005\n",
      "Epoch 5/20\n",
      "7352/7352 [==============================] - 121s 16ms/step - loss: 0.3329 - acc: 0.9048 - val_loss: 0.4312 - val_acc: 0.8663\n",
      "Epoch 6/20\n",
      "7352/7352 [==============================] - 125s 17ms/step - loss: 0.2665 - acc: 0.9253 - val_loss: 0.3789 - val_acc: 0.8873\n",
      "Epoch 7/20\n",
      "7352/7352 [==============================] - 122s 17ms/step - loss: 0.2311 - acc: 0.9271 - val_loss: 0.4710 - val_acc: 0.8690\n",
      "Epoch 8/20\n",
      "7352/7352 [==============================] - 214s 29ms/step - loss: 0.1946 - acc: 0.9334 - val_loss: 0.3532 - val_acc: 0.8972\n",
      "Epoch 9/20\n",
      "7352/7352 [==============================] - 173s 24ms/step - loss: 0.2094 - acc: 0.9380 - val_loss: 0.3589 - val_acc: 0.9033\n",
      "Epoch 10/20\n",
      "7352/7352 [==============================] - 124s 17ms/step - loss: 0.1785 - acc: 0.9415 - val_loss: 0.2869 - val_acc: 0.9070\n",
      "Epoch 11/20\n",
      "7352/7352 [==============================] - 144s 20ms/step - loss: 0.1875 - acc: 0.9418 - val_loss: 0.3843 - val_acc: 0.9016\n",
      "Epoch 12/20\n",
      "7352/7352 [==============================] - 156s 21ms/step - loss: 0.1964 - acc: 0.9399 - val_loss: 0.3523 - val_acc: 0.8860\n",
      "Epoch 13/20\n",
      "7352/7352 [==============================] - 231s 31ms/step - loss: 0.1772 - acc: 0.9382 - val_loss: 0.4540 - val_acc: 0.8839\n",
      "Epoch 14/20\n",
      "7352/7352 [==============================] - 156s 21ms/step - loss: 0.1703 - acc: 0.9455 - val_loss: 0.3913 - val_acc: 0.8928\n",
      "Epoch 15/20\n",
      "7352/7352 [==============================] - 143s 19ms/step - loss: 0.1718 - acc: 0.9446 - val_loss: 0.3111 - val_acc: 0.9152\n",
      "Epoch 16/20\n",
      "7352/7352 [==============================] - 142s 19ms/step - loss: 0.1520 - acc: 0.9490 - val_loss: 0.3391 - val_acc: 0.9128\n",
      "Epoch 17/20\n",
      "7352/7352 [==============================] - 144s 20ms/step - loss: 0.1565 - acc: 0.9472 - val_loss: 0.4047 - val_acc: 0.9060\n",
      "Epoch 18/20\n",
      "7352/7352 [==============================] - 132s 18ms/step - loss: 0.1499 - acc: 0.9470 - val_loss: 0.3015 - val_acc: 0.8992\n",
      "Epoch 19/20\n",
      "7352/7352 [==============================] - 124s 17ms/step - loss: 0.1385 - acc: 0.9498 - val_loss: 0.3873 - val_acc: 0.9057\n",
      "Epoch 20/20\n",
      "7352/7352 [==============================] - 145s 20ms/step - loss: 0.1550 - acc: 0.9510 - val_loss: 0.4510 - val_acc: 0.9063\n"
     ]
    },
    {
     "data": {
      "text/plain": [
       "<keras.callbacks.History at 0x1c7526f1550>"
      ]
     },
     "execution_count": 37,
     "metadata": {},
     "output_type": "execute_result"
    }
   ],
   "source": [
    "# Compiling the model\n",
    "model6.compile(loss='categorical_crossentropy',\n",
    "              optimizer='rmsprop',\n",
    "              metrics=['accuracy'])\n",
    "\n",
    "# Training the model\n",
    "model6.fit(X_train,\n",
    "          Y_train,\n",
    "          batch_size=batch_size,\n",
    "          validation_data=(X_test, Y_test),\n",
    "          epochs=epochs)"
   ]
  },
  {
   "cell_type": "code",
   "execution_count": 38,
   "metadata": {},
   "outputs": [
    {
     "name": "stdout",
     "output_type": "stream",
     "text": [
      "Test Score: 0.451065\n",
      "Test Accuracy: 90.634544%\n"
     ]
    },
    {
     "data": {
      "image/png": "[encoded data removed]",
      "text/plain": [
       "<Figure size 720x504 with 2 Axes>"
      ]
     },
     "metadata": {
      "needs_background": "light"
     },
     "output_type": "display_data"
    }
   ],
   "source": [
    "import matplotlib.pyplot as plt\n",
    "%matplotlib inline\n",
    "import seaborn as sns\n",
    "from sklearn.metrics import confusion_matrix\n",
    "\n",
    "# Final evaluation of the model\n",
    "scores = model6.evaluate(X_test, Y_test, verbose=0)\n",
    "print(\"Test Score: %f\" % (scores[0]))\n",
    "print(\"Test Accuracy: %f%%\" % (scores[1]*100))\n",
    "\n",
    "# Confusion Matrix\n",
    "Y_true = pd.Series([ACTIVITIES[y] for y in np.argmax(Y_test, axis=1)])\n",
    "Y_predictions = pd.Series([ACTIVITIES[y] for y in np.argmax(model6.predict(X_test), axis=1)])\n",
    "\n",
    "# Code for drawing seaborn heatmaps\n",
    "class_names = ['laying','sitting','standing','walking','walking_downstairs','walking_upstairs']\n",
    "df_heatmap = pd.DataFrame(confusion_matrix(Y_true, Y_predictions), index=class_names, columns=class_names )\n",
    "fig = plt.figure(figsize=(10,7))\n",
    "heatmap = sns.heatmap(df_heatmap, annot=True, fmt=\"d\")\n",
    "\n",
    "# Setting tick labels for heatmap\n",
    "heatmap.yaxis.set_ticklabels(heatmap.yaxis.get_ticklabels(), rotation=0, ha='right', fontsize=14)\n",
    "heatmap.xaxis.set_ticklabels(heatmap.xaxis.get_ticklabels(), rotation=90, ha='right', fontsize=14)\n",
    "plt.ylabel('True label',size=18)\n",
    "plt.xlabel('Predicted label',size=18)\n",
    "plt.title(\"Confusion Matrix\\n\",size=24)\n",
    "plt.show()"
   ]
  },
  {
   "cell_type": "markdown",
   "metadata": {},
   "source": [
    "Observation:\n",
    "    \n",
    "    test accuracy reach upto 90.0 % with 2 LSTM Layer and rmsprop optimizer.\n",
    "    \n",
    "    loss is 0.45."
   ]
  },
  {
   "cell_type": "markdown",
   "metadata": {},
   "source": [
    "# Overall Observation:"
   ]
  },
  {
   "cell_type": "markdown",
   "metadata": {},
   "source": [
    "For this problem, require optimal parameters are........\n",
    "\n",
    "2 LSTM model,\n",
    "\n",
    "rmsprop optimizer, \n",
    "\n",
    "64 hidden unit\n",
    "\n"
   ]
  },
  {
   "cell_type": "code",
   "execution_count": null,
   "metadata": {},
   "outputs": [],
   "source": []
  }
 ],
 "metadata": {
  "kernelspec": {
   "display_name": "Python 3",
   "language": "python",
   "name": "python3"
  },
  "language_info": {
   "codemirror_mode": {
    "name": "ipython",
    "version": 3
   },
   "file_extension": ".py",
   "mimetype": "text/x-python",
   "name": "python",
   "nbconvert_exporter": "python",
   "pygments_lexer": "ipython3",
   "version": "3.7.3"
  }
 },
 "nbformat": 4,
 "nbformat_minor": 2
}
